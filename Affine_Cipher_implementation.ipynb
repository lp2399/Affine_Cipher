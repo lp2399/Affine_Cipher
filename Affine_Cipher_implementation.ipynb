{
 "cells": [
  {
   "cell_type": "code",
   "execution_count": 59,
   "metadata": {},
   "outputs": [],
   "source": [
    "import re\n",
    "\n",
    "def text_to_numerical_val_list(text):\n",
    "    regex = re.compile('[^a-zA-Z]') # First we would like to remove all non-alphabetical characters such as commas, periods, exclamation marks, etc.\n",
    "    text = regex.sub('', text) \n",
    "    text = re.sub(r\"\\s+\", \"\", text, flags=re.UNICODE)# We also want to remove any spacing \n",
    "    text = text.lower() # important since there is a distinction beetwen uppercase and lowercase alphabet characters\n",
    "    text_char_to_numerical_value_list = []\n",
    "    for character in text:\n",
    "        numerical_value = ord(character) - 97 # we take the numeric value then subract 97 to fit the numbers within the regular alphabet\n",
    "        text_char_to_numerical_value_list.append(numerical_value)\n",
    "    return text_char_to_numerical_value_list    \n"
   ]
  },
  {
   "cell_type": "markdown",
   "metadata": {},
   "source": [
    "The code above takes in a string wich is either plain text or cipher text and coverts that string into an array of values based on the numeric index of that character in the alphabet - 1. Ex. the function takes in the following string, text_to_numerical_list(\"The string can consist of plaintext or CIPHERTEXT\") and the returned value will be an array of integer values, as follows [19, 7, 4, 18, ..., $n$]. The resulting array has $n$ elements, $n$ is essentailly the length of the string with all non-alphabetical characters and spaces removed, notice T is the 20th letter in the alphabet, but corresponds to 19 in the array since we start indexing from 0. "
   ]
  },
  {
   "cell_type": "code",
   "execution_count": 60,
   "metadata": {},
   "outputs": [],
   "source": [
    "def encipher(plaintext,keys = (13,11)): # takes in a string containing the plaintext and an ordered pair of alpha and beta\n",
    "    plaintext_numerical_val_list= text_to_numerical_val_list(plaintext)\n",
    "    alpha = keys[0]\n",
    "    beta = keys[1]\n",
    "    cipher_values = []\n",
    "    for i in plaintext_numerical_val_list:\n",
    "        cipher_val = (alpha*i)+beta # the alpha value is multiplied to the numeric index of a given charater in the given string\n",
    "        cipher_values.append(chr(((cipher_val)% 26)+97))\n",
    "    cipher_text = ''.join(str(char) for char in cipher_values)\n",
    "    return \"Cipher text:  \"+cipher_text.upper()"
   ]
  },
  {
   "cell_type": "markdown",
   "metadata": {},
   "source": [
    "The code above is used to encipher a given plaintext using the provided keys. The keys consist of an $\\alpha$ and a $\\beta$ where $\\alpha$ must be co-prime with 26, that is gcd($\\alpha$,26) = 1, and $0 < \\alpha, \\beta < 26$. In terms of a function for the code above: $f(p) = (\\alpha p) + \\beta$, $p$ is the numeric value of a letter, then the corresponding cipher value $C = f(p) \\mod 26$."
   ]
  },
  {
   "cell_type": "code",
   "execution_count": 61,
   "metadata": {},
   "outputs": [],
   "source": [
    "def decipher(ciphertext,keys):\n",
    "    cipher_text_to_numerical_val_list = text_to_numerical_val_list(ciphertext)\n",
    "    print(cipher_text_to_numerical_val_list)\n",
    "    alpha = keys[0]\n",
    "    beta = keys[1]\n",
    "    alpha_inverse = pow(alpha, -1, 26)#built in extended euclidean algorithm for finding the modular inverse \n",
    "    deciphered_values = []\n",
    "    for i in cipher_text_to_numerical_val_list:\n",
    "        deciphered_val = alpha_inverse*(i-beta) # the modular inverse of alpha is multiplied to the cipher value - beta\n",
    "        deciphered_values.append(chr(((deciphered_val)% 26)+97))\n",
    "    deciphered_text = ''.join(str(char) for char in deciphered_values)\n",
    "    return \"Deciphered text:  \"+deciphered_text.lower()"
   ]
  },
  {
   "cell_type": "markdown",
   "metadata": {},
   "source": [
    "The code above is used to decipher a given plaintext using the provided keys. Again the keys consist of an $\\alpha$ and a $\\beta$ where $\\alpha$ must be co-prime with 26, and $0 < \\alpha, \\beta < 26$. As a function: $f(C) = \\alpha^{-1}(C-\\beta)$, where $\\alpha^{-1}$ is the modular inverse of alpha which is equal to $\\kappa$, where $\\alpha \\cdot \\kappa \\equiv 1(\\mod 26)$, this $\\kappa$ is derived using the extended euclidean algorithm, the $\\kappa$ value is multiplied to $C-\\beta$. $\\\\$ Obtaining the deciphered plaintext value, $p = f(C) \\mod 26$  "
   ]
  },
  {
   "cell_type": "code",
   "execution_count": 62,
   "metadata": {},
   "outputs": [
    {
     "name": "stdout",
     "output_type": "stream",
     "text": [
      "Cipher text:  LAAJYXNRJEGXKVXQGBUJNYBQNXRTKXYBKVBKXNXRTKXQGLYWJDXYXKNRJEGXKLYUNGBTSUBYSFOXTNXUABKATY\n",
      "[15, 9, 23, 5, 9, 18, 22, 9, 13, 23, 9, 12, 17, 19, 9, 5, 21, 18, 20, 9, 14, 14, 9, 22, 5, 14, 21, 0, 9, 17, 22, 7, 4, 14, 5, 9, 17, 22, 9, 14, 3, 9, 5, 5, 25, 1, 9, 5]\n",
      "Deciphered text:  weusefrequenciesofletterstodecryptsecretmessages\n"
     ]
    }
   ],
   "source": [
    "print(encipher(\"Affine's cipher method is not secure nor more secure than Vigener's cipher and should only be used for fun\",(3,11))) # takes in a paramter of strings for plaintext and an ordered pair for key\n",
    "#Terminal output - Cipher text: LAAJYXNRJEGXKVXQGBUJNYBQNXRTKXYBKVBKXNXRTKXQGLYWJDXYXKNRJEGXKLYUNGBTSUBYSFOXTNXUABKAT\n",
    "print(decipher(\"PJXFJSWJNXJMRTJFVSUJOOJWFOVAJRWHEOFJRWJODJFFZBJF\",(9,25))) # takes in a paramter of strings and ordered pair for key\n",
    "#Terminal output - Deciphered text:  we use frequencies of letters to decrypt secret messages"
   ]
  }
 ],
 "metadata": {
  "interpreter": {
   "hash": "57baa5815c940fdaff4d14510622de9616cae602444507ba5d0b6727c008cbd6"
  },
  "kernelspec": {
   "display_name": "Python 3.7.5 64-bit",
   "name": "python3"
  },
  "language_info": {
   "codemirror_mode": {
    "name": "ipython",
    "version": 3
   },
   "file_extension": ".py",
   "mimetype": "text/x-python",
   "name": "python",
   "nbconvert_exporter": "python",
   "pygments_lexer": "ipython3",
   "version": "3.9.7"
  },
  "orig_nbformat": 4
 },
 "nbformat": 4,
 "nbformat_minor": 2
}
